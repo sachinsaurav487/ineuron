{
 "cells": [
  {
   "cell_type": "markdown",
   "metadata": {},
   "source": [
    "# assignment  4"
   ]
  },
  {
   "cell_type": "markdown",
   "metadata": {},
   "source": [
    "1.1 Write a Python Program(with class concepts) to find the area of the triangle using the below\n",
    "formula.\n",
    "area = (s*(s-a)*(s-b)*(s-c)) ** 0.5\n",
    "Function to take the length of the sides of triangle from user should be defined in the parent\n",
    "class and function to calculate the area should be defined in subclass."
   ]
  },
  {
   "cell_type": "code",
   "execution_count": 25,
   "metadata": {},
   "outputs": [
    {
     "name": "stdout",
     "output_type": "stream",
     "text": [
      "enter length of 1st side= 4\n",
      "enter length of 2nd side= 5\n",
      "enter length of 3rd side= 6\n",
      "Area of Traingle is 9.921567.\n"
     ]
    }
   ],
   "source": [
    "class Length:\n",
    "    def __init__(self):\n",
    "        self.a=0\n",
    "        self.b=0\n",
    "        self.c=0\n",
    "    def setlength(self):\n",
    "        self.a=float(input(\"enter length of 1st side= \"))\n",
    "        self.b=float(input(\"enter length of 2nd side= \"))\n",
    "        self.c=float(input(\"enter length of 3rd side= \"))\n",
    "\n",
    "class Area(Length):\n",
    "    def ARtraingl(self):\n",
    "        a,b,c=self.a,self.b,self.c\n",
    "        s = (a +b + c) / 2\n",
    "        ar=((s*(s-a)*(s-b)*(s-c)) ** 0.5) \n",
    "        print(\"Area of Traingle is %f.\" %(ar))\n",
    "A = Area()\n",
    "A.setlength()\n",
    "A.ARtraingl()"
   ]
  },
  {
   "cell_type": "markdown",
   "metadata": {},
   "source": [
    "1.2 Write a function filter_long_words() that takes a list of words and an integer n and returns\n",
    "the list of words that are longer than n."
   ]
  },
  {
   "cell_type": "code",
   "execution_count": 7,
   "metadata": {},
   "outputs": [
    {
     "name": "stdout",
     "output_type": "stream",
     "text": [
      "enter size of lw3\n",
      "enter word no  0   \n",
      "qwe\n",
      "enter word no  1   \n",
      "ssdff\n",
      "enter word no  2   \n",
      "sdff\n",
      "enter integer by which we compare length of words3\n"
     ]
    },
    {
     "data": {
      "text/plain": [
       "['ssdff', 'sdff']"
      ]
     },
     "execution_count": 7,
     "metadata": {},
     "output_type": "execute_result"
    }
   ],
   "source": [
    "def filter_long_words(lw,n):\n",
    "    l=[]\n",
    "    for i in range(len(lw)):\n",
    "        if len(lw[i])>n:\n",
    "            l.append(lw[i])\n",
    "    return l\n",
    "lw=['asdf','fds','gjwdu','df']\n",
    "l=int(input ('enter size of lw'))\n",
    "for i in range(l):\n",
    "    print('enter word no ',i ,\"  \")\n",
    "    lw[i]=input ()\n",
    "n=int(input ('enter integer by which we compare length of words'))\n",
    "\n",
    "filter_long_words(lw,n)"
   ]
  },
  {
   "cell_type": "markdown",
   "metadata": {},
   "source": [
    "2.1 Write a Python program using function concept that maps list of words into a list of integers\n",
    "representing the lengths of the corresponding words"
   ]
  },
  {
   "cell_type": "code",
   "execution_count": 27,
   "metadata": {},
   "outputs": [
    {
     "name": "stdout",
     "output_type": "stream",
     "text": [
      "enter size of list2\n",
      "enter word bn\n",
      "enter word cxvb\n"
     ]
    },
    {
     "data": {
      "text/plain": [
       "[2, 4]"
      ]
     },
     "execution_count": 27,
     "metadata": {},
     "output_type": "execute_result"
    }
   ],
   "source": [
    "def length_of_words(lw):\n",
    "    l=[]\n",
    "    \n",
    "    for i in range(len(lw)):\n",
    "        l.append(len(lw[i]))\n",
    "    return l\n",
    "lw=[]\n",
    "l=int(input ('enter size of list'))\n",
    "for i in range(l):\n",
    "    word=input(\"enter word \")\n",
    "    lw.append(word)\n",
    "length_of_words(lw)"
   ]
  },
  {
   "cell_type": "markdown",
   "metadata": {},
   "source": [
    "2.2 Write a Python function which takes a character (i.e. a string of length 1) and returns True if\n",
    "it is a vowel, False otherwise."
   ]
  },
  {
   "cell_type": "code",
   "execution_count": 30,
   "metadata": {},
   "outputs": [
    {
     "name": "stdout",
     "output_type": "stream",
     "text": [
      "enter a character g\n"
     ]
    },
    {
     "data": {
      "text/plain": [
       "False"
      ]
     },
     "execution_count": 30,
     "metadata": {},
     "output_type": "execute_result"
    }
   ],
   "source": [
    "def vowel(c):\n",
    "    v=['a','e','i','o','u']\n",
    "    for i in v:\n",
    "        if (i==c):\n",
    "            return True\n",
    "    else:\n",
    "        return False\n",
    "c=input('enter a character ')\n",
    "vowel(c)"
   ]
  },
  {
   "cell_type": "markdown",
   "metadata": {},
   "source": [
    "def filter_long_words(words, n):\n",
    "    return filter(lambda x: len(x) > n, words)\n",
    "\n",
    "\n",
    "filter_long_words(['test', 'not', 'this should'], 5)"
   ]
  },
  {
   "cell_type": "code",
   "execution_count": null,
   "metadata": {},
   "outputs": [],
   "source": []
  }
 ],
 "metadata": {
  "kernelspec": {
   "display_name": "Python 3",
   "language": "python",
   "name": "python3"
  },
  "language_info": {
   "codemirror_mode": {
    "name": "ipython",
    "version": 3
   },
   "file_extension": ".py",
   "mimetype": "text/x-python",
   "name": "python",
   "nbconvert_exporter": "python",
   "pygments_lexer": "ipython3",
   "version": "3.7.3"
  }
 },
 "nbformat": 4,
 "nbformat_minor": 2
}
